{
 "cells": [
  {
   "cell_type": "code",
   "execution_count": 4,
   "metadata": {},
   "outputs": [
    {
     "name": "stdout",
     "output_type": "stream",
     "text": [
      "Shutdown aborted\n"
     ]
    }
   ],
   "source": [
    "def shutdown (s):\n",
    "    \"\"\"\n",
    "    This functon takes in a shutdown response and returns yes, no or sorry\n",
    "    \"\"\"\n",
    "    if s==\"yes\":\n",
    "        print(\"Shutting down\")\n",
    "    elif s==\"no\":\n",
    "        print(\"Shutdown aborted\")\n",
    "    else:\n",
    "        print(\"Sorry\")\n",
    "shutdown(\"no\")"
   ]
  },
  {
   "cell_type": "code",
   "execution_count": 5,
   "metadata": {},
   "outputs": [
    {
     "data": {
      "text/plain": [
       "700"
      ]
     },
     "execution_count": 5,
     "metadata": {},
     "output_type": "execute_result"
    }
   ],
   "source": [
    "def hotelcost (nights):\n",
    "    \"\"\"\n",
    "    This function takes in the hotelcost 140$ and the nights and returns 140$ * nights\n",
    "    \"\"\"\n",
    "    return (140 * nights)\n",
    "hotelcost(5)"
   ]
  },
  {
   "cell_type": "code",
   "execution_count": 6,
   "metadata": {},
   "outputs": [
    {
     "name": "stdout",
     "output_type": "stream",
     "text": [
      "220\n"
     ]
    }
   ],
   "source": [
    "def plane_ride_cost (city):\n",
    "    \"\"\"\n",
    "    This function takes in the location and and returns price\n",
    "    \"\"\"\n",
    "    if city==\"Charlotte\":\n",
    "        print(183)\n",
    "    if city==\"Tampa\":\n",
    "        print(220)\n",
    "    if city==\"Pittsburgh\":\n",
    "        print(222)\n",
    "    if city==\"Los Angeles\":\n",
    "        print(475)\n",
    "plane_ride_cost(\"Tampa\")\n"
   ]
  },
  {
   "cell_type": "code",
   "execution_count": 7,
   "metadata": {},
   "outputs": [
    {
     "data": {
      "text/plain": [
       "140"
      ]
     },
     "execution_count": 7,
     "metadata": {},
     "output_type": "execute_result"
    }
   ],
   "source": [
    "def rental_car_cost (days):\n",
    "    \"\"\"\n",
    "    This function calculates the cost of renting a car\n",
    "    \"\"\"\n",
    "    car_cost = 40 * days \n",
    "    if days >=7:\n",
    "        car_cost = car_cost-50\n",
    "        return car_cost\n",
    "    elif days >= 3:\n",
    "        car_cost = car_cost-20\n",
    "        return car_cost\n",
    "    else:\n",
    "        return car_cost\n",
    "rental_car_cost(4)"
   ]
  },
  {
   "cell_type": "code",
   "execution_count": 8,
   "metadata": {},
   "outputs": [
    {
     "ename": "NameError",
     "evalue": "name 'hotel_cost' is not defined",
     "output_type": "error",
     "traceback": [
      "\u001b[1;31m---------------------------------------------------------------------------\u001b[0m",
      "\u001b[1;31mNameError\u001b[0m                                 Traceback (most recent call last)",
      "\u001b[1;32m<ipython-input-8-dfd07bc3303f>\u001b[0m in \u001b[0;36m<module>\u001b[1;34m\u001b[0m\n\u001b[0;32m      2\u001b[0m \u001b[1;33m\u001b[0m\u001b[0m\n\u001b[0;32m      3\u001b[0m     \u001b[1;32mreturn\u001b[0m \u001b[0mrental_car_cost\u001b[0m\u001b[1;33m(\u001b[0m\u001b[0mdays\u001b[0m\u001b[1;33m)\u001b[0m \u001b[1;33m+\u001b[0m \u001b[0mhotel_cost\u001b[0m\u001b[1;33m(\u001b[0m\u001b[0mnights\u001b[0m\u001b[1;33m)\u001b[0m \u001b[1;33m+\u001b[0m \u001b[0mplane_ride_cost\u001b[0m\u001b[1;33m(\u001b[0m\u001b[0mcity\u001b[0m\u001b[1;33m)\u001b[0m\u001b[1;33m\u001b[0m\u001b[1;33m\u001b[0m\u001b[0m\n\u001b[1;32m----> 4\u001b[1;33m \u001b[0mrental_car_cost\u001b[0m\u001b[1;33m(\u001b[0m\u001b[1;36m3\u001b[0m\u001b[1;33m)\u001b[0m \u001b[1;33m+\u001b[0m \u001b[0mhotel_cost\u001b[0m\u001b[1;33m(\u001b[0m\u001b[1;36m2\u001b[0m\u001b[1;33m)\u001b[0m \u001b[1;33m+\u001b[0m \u001b[0mplane_ride_cost\u001b[0m\u001b[1;33m(\u001b[0m\u001b[1;36m2\u001b[0m\u001b[1;33m)\u001b[0m\u001b[1;33m\u001b[0m\u001b[1;33m\u001b[0m\u001b[0m\n\u001b[0m",
      "\u001b[1;31mNameError\u001b[0m: name 'hotel_cost' is not defined"
     ]
    }
   ],
   "source": [
    "def trip_cost(city, days):\n",
    "    \n",
    "    return rental_car_cost(days) + hotel_cost(nights) + plane_ride_cost(city)\n",
    "rental_car_cost(3) + hotel_cost(2) + plane_ride_cost(2)"
   ]
  },
  {
   "cell_type": "code",
   "execution_count": null,
   "metadata": {},
   "outputs": [],
   "source": []
  }
 ],
 "metadata": {
  "kernelspec": {
   "display_name": "Python 3",
   "language": "python",
   "name": "python3"
  },
  "language_info": {
   "codemirror_mode": {
    "name": "ipython",
    "version": 3
   },
   "file_extension": ".py",
   "mimetype": "text/x-python",
   "name": "python",
   "nbconvert_exporter": "python",
   "pygments_lexer": "ipython3",
   "version": "3.7.1"
  }
 },
 "nbformat": 4,
 "nbformat_minor": 2
}
